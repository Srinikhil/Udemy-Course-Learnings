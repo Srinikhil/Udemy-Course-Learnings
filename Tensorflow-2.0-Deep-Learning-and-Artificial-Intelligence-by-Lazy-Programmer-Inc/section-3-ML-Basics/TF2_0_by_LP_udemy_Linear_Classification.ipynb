{
  "nbformat": 4,
  "nbformat_minor": 0,
  "metadata": {
    "colab": {
      "name": "TF2.0-by-LP-udemy-Linear-Classification.ipynb",
      "provenance": [],
      "collapsed_sections": []
    },
    "kernelspec": {
      "name": "python3",
      "display_name": "Python 3"
    }
  },
  "cells": [
    {
      "cell_type": "code",
      "metadata": {
        "id": "v_PgUFtwGwFo",
        "colab_type": "code",
        "outputId": "3406ecf8-4168-48ad-f986-71e5848f4109",
        "colab": {
          "base_uri": "https://localhost:8080/",
          "height": 33
        }
      },
      "source": [
        "import tensorflow as tf\n",
        "print(tf.__version__)"
      ],
      "execution_count": 1,
      "outputs": [
        {
          "output_type": "stream",
          "text": [
            "2.2.0-rc3\n"
          ],
          "name": "stdout"
        }
      ]
    },
    {
      "cell_type": "code",
      "metadata": {
        "id": "kQedMwJ6Ht0T",
        "colab_type": "code",
        "colab": {}
      },
      "source": [
        "from sklearn.datasets import load_breast_cancer"
      ],
      "execution_count": 0,
      "outputs": []
    },
    {
      "cell_type": "code",
      "metadata": {
        "id": "Ym6_j9t7IDdn",
        "colab_type": "code",
        "colab": {}
      },
      "source": [
        "data = load_breast_cancer()"
      ],
      "execution_count": 0,
      "outputs": []
    },
    {
      "cell_type": "code",
      "metadata": {
        "id": "6mlDp1saIGkx",
        "colab_type": "code",
        "outputId": "087311aa-e085-425f-b219-3b8912435832",
        "colab": {
          "base_uri": "https://localhost:8080/",
          "height": 33
        }
      },
      "source": [
        "type(data)\n",
        "# sklearn.utils.Bunch works as dictionaries"
      ],
      "execution_count": 4,
      "outputs": [
        {
          "output_type": "execute_result",
          "data": {
            "text/plain": [
              "sklearn.utils.Bunch"
            ]
          },
          "metadata": {
            "tags": []
          },
          "execution_count": 4
        }
      ]
    },
    {
      "cell_type": "code",
      "metadata": {
        "id": "UpjS4iI5II15",
        "colab_type": "code",
        "outputId": "1148bc29-1040-4eca-c801-10e63043c696",
        "colab": {
          "base_uri": "https://localhost:8080/",
          "height": 33
        }
      },
      "source": [
        "data.keys()"
      ],
      "execution_count": 5,
      "outputs": [
        {
          "output_type": "execute_result",
          "data": {
            "text/plain": [
              "dict_keys(['data', 'target', 'target_names', 'DESCR', 'feature_names', 'filename'])"
            ]
          },
          "metadata": {
            "tags": []
          },
          "execution_count": 5
        }
      ]
    },
    {
      "cell_type": "code",
      "metadata": {
        "id": "6BKJXqzSIXn5",
        "colab_type": "code",
        "outputId": "06ce5134-f696-4ab2-a43c-b4f6731ff0c7",
        "colab": {
          "base_uri": "https://localhost:8080/",
          "height": 50
        }
      },
      "source": [
        "print(data.data.shape)\n",
        "print(data.target.shape)"
      ],
      "execution_count": 6,
      "outputs": [
        {
          "output_type": "stream",
          "text": [
            "(569, 30)\n",
            "(569,)\n"
          ],
          "name": "stdout"
        }
      ]
    },
    {
      "cell_type": "code",
      "metadata": {
        "id": "-6O-D10SIaKg",
        "colab_type": "code",
        "outputId": "cb525c77-ed2f-4586-daee-c86db9ce280e",
        "colab": {
          "base_uri": "https://localhost:8080/",
          "height": 450
        }
      },
      "source": [
        "#print(data.target)\n",
        "data.target"
      ],
      "execution_count": 7,
      "outputs": [
        {
          "output_type": "execute_result",
          "data": {
            "text/plain": [
              "array([0, 0, 0, 0, 0, 0, 0, 0, 0, 0, 0, 0, 0, 0, 0, 0, 0, 0, 0, 1, 1, 1,\n",
              "       0, 0, 0, 0, 0, 0, 0, 0, 0, 0, 0, 0, 0, 0, 0, 1, 0, 0, 0, 0, 0, 0,\n",
              "       0, 0, 1, 0, 1, 1, 1, 1, 1, 0, 0, 1, 0, 0, 1, 1, 1, 1, 0, 1, 0, 0,\n",
              "       1, 1, 1, 1, 0, 1, 0, 0, 1, 0, 1, 0, 0, 1, 1, 1, 0, 0, 1, 0, 0, 0,\n",
              "       1, 1, 1, 0, 1, 1, 0, 0, 1, 1, 1, 0, 0, 1, 1, 1, 1, 0, 1, 1, 0, 1,\n",
              "       1, 1, 1, 1, 1, 1, 1, 0, 0, 0, 1, 0, 0, 1, 1, 1, 0, 0, 1, 0, 1, 0,\n",
              "       0, 1, 0, 0, 1, 1, 0, 1, 1, 0, 1, 1, 1, 1, 0, 1, 1, 1, 1, 1, 1, 1,\n",
              "       1, 1, 0, 1, 1, 1, 1, 0, 0, 1, 0, 1, 1, 0, 0, 1, 1, 0, 0, 1, 1, 1,\n",
              "       1, 0, 1, 1, 0, 0, 0, 1, 0, 1, 0, 1, 1, 1, 0, 1, 1, 0, 0, 1, 0, 0,\n",
              "       0, 0, 1, 0, 0, 0, 1, 0, 1, 0, 1, 1, 0, 1, 0, 0, 0, 0, 1, 1, 0, 0,\n",
              "       1, 1, 1, 0, 1, 1, 1, 1, 1, 0, 0, 1, 1, 0, 1, 1, 0, 0, 1, 0, 1, 1,\n",
              "       1, 1, 0, 1, 1, 1, 1, 1, 0, 1, 0, 0, 0, 0, 0, 0, 0, 0, 0, 0, 0, 0,\n",
              "       0, 0, 1, 1, 1, 1, 1, 1, 0, 1, 0, 1, 1, 0, 1, 1, 0, 1, 0, 0, 1, 1,\n",
              "       1, 1, 1, 1, 1, 1, 1, 1, 1, 1, 1, 0, 1, 1, 0, 1, 0, 1, 1, 1, 1, 1,\n",
              "       1, 1, 1, 1, 1, 1, 1, 1, 1, 0, 1, 1, 1, 0, 1, 0, 1, 1, 1, 1, 0, 0,\n",
              "       0, 1, 1, 1, 1, 0, 1, 0, 1, 0, 1, 1, 1, 0, 1, 1, 1, 1, 1, 1, 1, 0,\n",
              "       0, 0, 1, 1, 1, 1, 1, 1, 1, 1, 1, 1, 1, 0, 0, 1, 0, 0, 0, 1, 0, 0,\n",
              "       1, 1, 1, 1, 1, 0, 1, 1, 1, 1, 1, 0, 1, 1, 1, 0, 1, 1, 0, 0, 1, 1,\n",
              "       1, 1, 1, 1, 0, 1, 1, 1, 1, 1, 1, 1, 0, 1, 1, 1, 1, 1, 0, 1, 1, 0,\n",
              "       1, 1, 1, 1, 1, 1, 1, 1, 1, 1, 1, 1, 0, 1, 0, 0, 1, 0, 1, 1, 1, 1,\n",
              "       1, 0, 1, 1, 0, 1, 0, 1, 1, 0, 1, 0, 1, 1, 1, 1, 1, 1, 1, 1, 0, 0,\n",
              "       1, 1, 1, 1, 1, 1, 0, 1, 1, 1, 1, 1, 1, 1, 1, 1, 1, 0, 1, 1, 1, 1,\n",
              "       1, 1, 1, 0, 1, 0, 1, 1, 0, 1, 1, 1, 1, 1, 0, 0, 1, 0, 1, 0, 1, 1,\n",
              "       1, 1, 1, 0, 1, 1, 0, 1, 0, 1, 0, 0, 1, 1, 1, 0, 1, 1, 1, 1, 1, 1,\n",
              "       1, 1, 1, 1, 1, 0, 1, 0, 0, 1, 1, 1, 1, 1, 1, 1, 1, 1, 1, 1, 1, 1,\n",
              "       1, 1, 1, 1, 1, 1, 1, 1, 1, 1, 1, 1, 0, 0, 0, 0, 0, 0, 1])"
            ]
          },
          "metadata": {
            "tags": []
          },
          "execution_count": 7
        }
      ]
    },
    {
      "cell_type": "code",
      "metadata": {
        "id": "_HfnWNH0Ir-C",
        "colab_type": "code",
        "outputId": "23be4d6d-9e55-4ed0-e691-0748095132ee",
        "colab": {
          "base_uri": "https://localhost:8080/",
          "height": 33
        }
      },
      "source": [
        "data.target_names"
      ],
      "execution_count": 8,
      "outputs": [
        {
          "output_type": "execute_result",
          "data": {
            "text/plain": [
              "array(['malignant', 'benign'], dtype='<U9')"
            ]
          },
          "metadata": {
            "tags": []
          },
          "execution_count": 8
        }
      ]
    },
    {
      "cell_type": "code",
      "metadata": {
        "id": "6Bwxst_yJKCB",
        "colab_type": "code",
        "outputId": "32a38b30-680d-4300-9414-9e6c37419aa1",
        "colab": {
          "base_uri": "https://localhost:8080/",
          "height": 183
        }
      },
      "source": [
        "data.feature_names"
      ],
      "execution_count": 9,
      "outputs": [
        {
          "output_type": "execute_result",
          "data": {
            "text/plain": [
              "array(['mean radius', 'mean texture', 'mean perimeter', 'mean area',\n",
              "       'mean smoothness', 'mean compactness', 'mean concavity',\n",
              "       'mean concave points', 'mean symmetry', 'mean fractal dimension',\n",
              "       'radius error', 'texture error', 'perimeter error', 'area error',\n",
              "       'smoothness error', 'compactness error', 'concavity error',\n",
              "       'concave points error', 'symmetry error',\n",
              "       'fractal dimension error', 'worst radius', 'worst texture',\n",
              "       'worst perimeter', 'worst area', 'worst smoothness',\n",
              "       'worst compactness', 'worst concavity', 'worst concave points',\n",
              "       'worst symmetry', 'worst fractal dimension'], dtype='<U23')"
            ]
          },
          "metadata": {
            "tags": []
          },
          "execution_count": 9
        }
      ]
    },
    {
      "cell_type": "code",
      "metadata": {
        "id": "x91bjcxxJM7R",
        "colab_type": "code",
        "outputId": "d30ccb88-09fb-412c-c373-8aa534d0c9d1",
        "colab": {
          "base_uri": "https://localhost:8080/",
          "height": 33
        }
      },
      "source": [
        "from sklearn.model_selection import train_test_split\n",
        "\n",
        "X_train, X_test, y_train, y_test = train_test_split(data.data, data.target, test_size=0.3)\n",
        "N, D = X_train.shape\n",
        "print(N, D)"
      ],
      "execution_count": 10,
      "outputs": [
        {
          "output_type": "stream",
          "text": [
            "398 30\n"
          ],
          "name": "stdout"
        }
      ]
    },
    {
      "cell_type": "code",
      "metadata": {
        "id": "P4rlAa75JtR_",
        "colab_type": "code",
        "colab": {}
      },
      "source": [
        "from sklearn.preprocessing import StandardScaler\n",
        "\n",
        "scaler = StandardScaler()\n",
        "X_train = scaler.fit_transform(X_train)\n",
        "X_test = scaler.transform(X_test)\n",
        "\n",
        "#We do this on the training set of data.\n",
        "#1.Fit(): Method calculates the parameters μ and σ and saves them as internal objects.\n",
        "#2.Transform(): Method using these calculated parameters apply the transformation to a particular dataset.\n",
        "#3.Fit_transform(): joins the fit() and transform() method for transformation of dataset."
      ],
      "execution_count": 0,
      "outputs": []
    },
    {
      "cell_type": "code",
      "metadata": {
        "id": "DAR4BpstLCng",
        "colab_type": "code",
        "outputId": "224589b1-8e18-402f-8dcf-c25b0f068858",
        "colab": {
          "base_uri": "https://localhost:8080/",
          "height": 1000
        }
      },
      "source": [
        "# Building a model\n",
        "\n",
        "model = tf.keras.models.Sequential()\n",
        "model.add(tf.keras.layers.Dense(1, input_shape=(D,), activation='sigmoid'))\n",
        "\n",
        "#also can be used as below\n",
        "#model = tf.keras.models.Sequential([\n",
        "#  tf.keras.layers.Input(shape=(D,)),\n",
        "#  tf.keras.layers.Dense(1, activation='sigmoid')\n",
        "#])\n",
        "\n",
        "model.compile(optimizer='adam', \n",
        "              loss='binary_crossentropy',\n",
        "              metrics=['accuracy'])\n",
        "\n",
        "r = model.fit(X_train, y_train, validation_data=(X_test, y_test), epochs=100)\n",
        "\n",
        "print(\"Train score:\", model.evaluate(X_train, y_train))\n",
        "print(\"Test score:\", model.evaluate(X_test, y_test))"
      ],
      "execution_count": 12,
      "outputs": [
        {
          "output_type": "stream",
          "text": [
            "Epoch 1/100\n",
            "13/13 [==============================] - 0s 14ms/step - loss: 0.4300 - accuracy: 0.8191 - val_loss: 0.3902 - val_accuracy: 0.8480\n",
            "Epoch 2/100\n",
            "13/13 [==============================] - 0s 4ms/step - loss: 0.4156 - accuracy: 0.8417 - val_loss: 0.3619 - val_accuracy: 0.8596\n",
            "Epoch 3/100\n",
            "13/13 [==============================] - 0s 4ms/step - loss: 0.3698 - accuracy: 0.8568 - val_loss: 0.3377 - val_accuracy: 0.8713\n",
            "Epoch 4/100\n",
            "13/13 [==============================] - 0s 4ms/step - loss: 0.3513 - accuracy: 0.8643 - val_loss: 0.3163 - val_accuracy: 0.8713\n",
            "Epoch 5/100\n",
            "13/13 [==============================] - 0s 4ms/step - loss: 0.3237 - accuracy: 0.8794 - val_loss: 0.2970 - val_accuracy: 0.8772\n",
            "Epoch 6/100\n",
            "13/13 [==============================] - 0s 4ms/step - loss: 0.3163 - accuracy: 0.8844 - val_loss: 0.2802 - val_accuracy: 0.8889\n",
            "Epoch 7/100\n",
            "13/13 [==============================] - 0s 4ms/step - loss: 0.3053 - accuracy: 0.8920 - val_loss: 0.2651 - val_accuracy: 0.9240\n",
            "Epoch 8/100\n",
            "13/13 [==============================] - 0s 4ms/step - loss: 0.2852 - accuracy: 0.8970 - val_loss: 0.2520 - val_accuracy: 0.9240\n",
            "Epoch 9/100\n",
            "13/13 [==============================] - 0s 4ms/step - loss: 0.2633 - accuracy: 0.9020 - val_loss: 0.2399 - val_accuracy: 0.9240\n",
            "Epoch 10/100\n",
            "13/13 [==============================] - 0s 4ms/step - loss: 0.2530 - accuracy: 0.9070 - val_loss: 0.2293 - val_accuracy: 0.9240\n",
            "Epoch 11/100\n",
            "13/13 [==============================] - 0s 4ms/step - loss: 0.2435 - accuracy: 0.9146 - val_loss: 0.2197 - val_accuracy: 0.9357\n",
            "Epoch 12/100\n",
            "13/13 [==============================] - 0s 4ms/step - loss: 0.2414 - accuracy: 0.9221 - val_loss: 0.2110 - val_accuracy: 0.9357\n",
            "Epoch 13/100\n",
            "13/13 [==============================] - 0s 4ms/step - loss: 0.2220 - accuracy: 0.9322 - val_loss: 0.2031 - val_accuracy: 0.9357\n",
            "Epoch 14/100\n",
            "13/13 [==============================] - 0s 4ms/step - loss: 0.2198 - accuracy: 0.9322 - val_loss: 0.1962 - val_accuracy: 0.9415\n",
            "Epoch 15/100\n",
            "13/13 [==============================] - 0s 4ms/step - loss: 0.2251 - accuracy: 0.9322 - val_loss: 0.1897 - val_accuracy: 0.9415\n",
            "Epoch 16/100\n",
            "13/13 [==============================] - 0s 4ms/step - loss: 0.2107 - accuracy: 0.9397 - val_loss: 0.1836 - val_accuracy: 0.9474\n",
            "Epoch 17/100\n",
            "13/13 [==============================] - 0s 4ms/step - loss: 0.1908 - accuracy: 0.9422 - val_loss: 0.1780 - val_accuracy: 0.9474\n",
            "Epoch 18/100\n",
            "13/13 [==============================] - 0s 4ms/step - loss: 0.1858 - accuracy: 0.9472 - val_loss: 0.1731 - val_accuracy: 0.9474\n",
            "Epoch 19/100\n",
            "13/13 [==============================] - 0s 4ms/step - loss: 0.1826 - accuracy: 0.9523 - val_loss: 0.1686 - val_accuracy: 0.9474\n",
            "Epoch 20/100\n",
            "13/13 [==============================] - 0s 4ms/step - loss: 0.1707 - accuracy: 0.9523 - val_loss: 0.1644 - val_accuracy: 0.9474\n",
            "Epoch 21/100\n",
            "13/13 [==============================] - 0s 4ms/step - loss: 0.1732 - accuracy: 0.9523 - val_loss: 0.1605 - val_accuracy: 0.9474\n",
            "Epoch 22/100\n",
            "13/13 [==============================] - 0s 4ms/step - loss: 0.1668 - accuracy: 0.9523 - val_loss: 0.1570 - val_accuracy: 0.9474\n",
            "Epoch 23/100\n",
            "13/13 [==============================] - 0s 4ms/step - loss: 0.1677 - accuracy: 0.9548 - val_loss: 0.1536 - val_accuracy: 0.9532\n",
            "Epoch 24/100\n",
            "13/13 [==============================] - 0s 4ms/step - loss: 0.1561 - accuracy: 0.9548 - val_loss: 0.1505 - val_accuracy: 0.9532\n",
            "Epoch 25/100\n",
            "13/13 [==============================] - 0s 4ms/step - loss: 0.1546 - accuracy: 0.9548 - val_loss: 0.1476 - val_accuracy: 0.9532\n",
            "Epoch 26/100\n",
            "13/13 [==============================] - 0s 4ms/step - loss: 0.1491 - accuracy: 0.9548 - val_loss: 0.1448 - val_accuracy: 0.9532\n",
            "Epoch 27/100\n",
            "13/13 [==============================] - 0s 5ms/step - loss: 0.1482 - accuracy: 0.9548 - val_loss: 0.1421 - val_accuracy: 0.9532\n",
            "Epoch 28/100\n",
            "13/13 [==============================] - 0s 4ms/step - loss: 0.1411 - accuracy: 0.9573 - val_loss: 0.1397 - val_accuracy: 0.9649\n",
            "Epoch 29/100\n",
            "13/13 [==============================] - 0s 4ms/step - loss: 0.1376 - accuracy: 0.9573 - val_loss: 0.1374 - val_accuracy: 0.9649\n",
            "Epoch 30/100\n",
            "13/13 [==============================] - 0s 4ms/step - loss: 0.1345 - accuracy: 0.9573 - val_loss: 0.1353 - val_accuracy: 0.9649\n",
            "Epoch 31/100\n",
            "13/13 [==============================] - 0s 4ms/step - loss: 0.1343 - accuracy: 0.9573 - val_loss: 0.1334 - val_accuracy: 0.9649\n",
            "Epoch 32/100\n",
            "13/13 [==============================] - 0s 4ms/step - loss: 0.1319 - accuracy: 0.9573 - val_loss: 0.1314 - val_accuracy: 0.9649\n",
            "Epoch 33/100\n",
            "13/13 [==============================] - 0s 4ms/step - loss: 0.1278 - accuracy: 0.9573 - val_loss: 0.1296 - val_accuracy: 0.9649\n",
            "Epoch 34/100\n",
            "13/13 [==============================] - 0s 4ms/step - loss: 0.1234 - accuracy: 0.9598 - val_loss: 0.1279 - val_accuracy: 0.9708\n",
            "Epoch 35/100\n",
            "13/13 [==============================] - 0s 4ms/step - loss: 0.1224 - accuracy: 0.9598 - val_loss: 0.1264 - val_accuracy: 0.9708\n",
            "Epoch 36/100\n",
            "13/13 [==============================] - 0s 5ms/step - loss: 0.1251 - accuracy: 0.9598 - val_loss: 0.1248 - val_accuracy: 0.9708\n",
            "Epoch 37/100\n",
            "13/13 [==============================] - 0s 4ms/step - loss: 0.1201 - accuracy: 0.9598 - val_loss: 0.1234 - val_accuracy: 0.9708\n",
            "Epoch 38/100\n",
            "13/13 [==============================] - 0s 4ms/step - loss: 0.1153 - accuracy: 0.9623 - val_loss: 0.1220 - val_accuracy: 0.9708\n",
            "Epoch 39/100\n",
            "13/13 [==============================] - 0s 4ms/step - loss: 0.1145 - accuracy: 0.9648 - val_loss: 0.1207 - val_accuracy: 0.9708\n",
            "Epoch 40/100\n",
            "13/13 [==============================] - 0s 5ms/step - loss: 0.1107 - accuracy: 0.9673 - val_loss: 0.1195 - val_accuracy: 0.9708\n",
            "Epoch 41/100\n",
            "13/13 [==============================] - 0s 4ms/step - loss: 0.1119 - accuracy: 0.9673 - val_loss: 0.1183 - val_accuracy: 0.9708\n",
            "Epoch 42/100\n",
            "13/13 [==============================] - 0s 4ms/step - loss: 0.1123 - accuracy: 0.9724 - val_loss: 0.1172 - val_accuracy: 0.9708\n",
            "Epoch 43/100\n",
            "13/13 [==============================] - 0s 4ms/step - loss: 0.1120 - accuracy: 0.9724 - val_loss: 0.1161 - val_accuracy: 0.9708\n",
            "Epoch 44/100\n",
            "13/13 [==============================] - 0s 4ms/step - loss: 0.1070 - accuracy: 0.9724 - val_loss: 0.1151 - val_accuracy: 0.9708\n",
            "Epoch 45/100\n",
            "13/13 [==============================] - 0s 5ms/step - loss: 0.1098 - accuracy: 0.9724 - val_loss: 0.1141 - val_accuracy: 0.9708\n",
            "Epoch 46/100\n",
            "13/13 [==============================] - 0s 4ms/step - loss: 0.1033 - accuracy: 0.9724 - val_loss: 0.1131 - val_accuracy: 0.9708\n",
            "Epoch 47/100\n",
            "13/13 [==============================] - 0s 4ms/step - loss: 0.1037 - accuracy: 0.9724 - val_loss: 0.1122 - val_accuracy: 0.9708\n",
            "Epoch 48/100\n",
            "13/13 [==============================] - 0s 4ms/step - loss: 0.1011 - accuracy: 0.9724 - val_loss: 0.1114 - val_accuracy: 0.9708\n",
            "Epoch 49/100\n",
            "13/13 [==============================] - 0s 4ms/step - loss: 0.0977 - accuracy: 0.9724 - val_loss: 0.1106 - val_accuracy: 0.9708\n",
            "Epoch 50/100\n",
            "13/13 [==============================] - 0s 4ms/step - loss: 0.0989 - accuracy: 0.9749 - val_loss: 0.1098 - val_accuracy: 0.9708\n",
            "Epoch 51/100\n",
            "13/13 [==============================] - 0s 4ms/step - loss: 0.1034 - accuracy: 0.9749 - val_loss: 0.1091 - val_accuracy: 0.9708\n",
            "Epoch 52/100\n",
            "13/13 [==============================] - 0s 4ms/step - loss: 0.0955 - accuracy: 0.9749 - val_loss: 0.1085 - val_accuracy: 0.9708\n",
            "Epoch 53/100\n",
            "13/13 [==============================] - 0s 4ms/step - loss: 0.0955 - accuracy: 0.9749 - val_loss: 0.1078 - val_accuracy: 0.9708\n",
            "Epoch 54/100\n",
            "13/13 [==============================] - 0s 4ms/step - loss: 0.0954 - accuracy: 0.9774 - val_loss: 0.1072 - val_accuracy: 0.9708\n",
            "Epoch 55/100\n",
            "13/13 [==============================] - 0s 4ms/step - loss: 0.0953 - accuracy: 0.9799 - val_loss: 0.1065 - val_accuracy: 0.9708\n",
            "Epoch 56/100\n",
            "13/13 [==============================] - 0s 4ms/step - loss: 0.0958 - accuracy: 0.9799 - val_loss: 0.1059 - val_accuracy: 0.9708\n",
            "Epoch 57/100\n",
            "13/13 [==============================] - 0s 4ms/step - loss: 0.0925 - accuracy: 0.9824 - val_loss: 0.1053 - val_accuracy: 0.9708\n",
            "Epoch 58/100\n",
            "13/13 [==============================] - 0s 4ms/step - loss: 0.0893 - accuracy: 0.9824 - val_loss: 0.1048 - val_accuracy: 0.9708\n",
            "Epoch 59/100\n",
            "13/13 [==============================] - 0s 4ms/step - loss: 0.0885 - accuracy: 0.9824 - val_loss: 0.1043 - val_accuracy: 0.9708\n",
            "Epoch 60/100\n",
            "13/13 [==============================] - 0s 4ms/step - loss: 0.0880 - accuracy: 0.9824 - val_loss: 0.1038 - val_accuracy: 0.9708\n",
            "Epoch 61/100\n",
            "13/13 [==============================] - 0s 4ms/step - loss: 0.0880 - accuracy: 0.9824 - val_loss: 0.1033 - val_accuracy: 0.9708\n",
            "Epoch 62/100\n",
            "13/13 [==============================] - 0s 4ms/step - loss: 0.0867 - accuracy: 0.9824 - val_loss: 0.1028 - val_accuracy: 0.9708\n",
            "Epoch 63/100\n",
            "13/13 [==============================] - 0s 4ms/step - loss: 0.0906 - accuracy: 0.9824 - val_loss: 0.1023 - val_accuracy: 0.9708\n",
            "Epoch 64/100\n",
            "13/13 [==============================] - 0s 5ms/step - loss: 0.0847 - accuracy: 0.9824 - val_loss: 0.1019 - val_accuracy: 0.9708\n",
            "Epoch 65/100\n",
            "13/13 [==============================] - 0s 4ms/step - loss: 0.0895 - accuracy: 0.9824 - val_loss: 0.1015 - val_accuracy: 0.9708\n",
            "Epoch 66/100\n",
            "13/13 [==============================] - 0s 4ms/step - loss: 0.0862 - accuracy: 0.9824 - val_loss: 0.1010 - val_accuracy: 0.9708\n",
            "Epoch 67/100\n",
            "13/13 [==============================] - 0s 4ms/step - loss: 0.0883 - accuracy: 0.9824 - val_loss: 0.1006 - val_accuracy: 0.9708\n",
            "Epoch 68/100\n",
            "13/13 [==============================] - 0s 4ms/step - loss: 0.0860 - accuracy: 0.9824 - val_loss: 0.1003 - val_accuracy: 0.9708\n",
            "Epoch 69/100\n",
            "13/13 [==============================] - 0s 4ms/step - loss: 0.0805 - accuracy: 0.9824 - val_loss: 0.0999 - val_accuracy: 0.9708\n",
            "Epoch 70/100\n",
            "13/13 [==============================] - 0s 4ms/step - loss: 0.0818 - accuracy: 0.9824 - val_loss: 0.0995 - val_accuracy: 0.9708\n",
            "Epoch 71/100\n",
            "13/13 [==============================] - 0s 4ms/step - loss: 0.0821 - accuracy: 0.9824 - val_loss: 0.0992 - val_accuracy: 0.9708\n",
            "Epoch 72/100\n",
            "13/13 [==============================] - 0s 4ms/step - loss: 0.0853 - accuracy: 0.9824 - val_loss: 0.0989 - val_accuracy: 0.9708\n",
            "Epoch 73/100\n",
            "13/13 [==============================] - 0s 4ms/step - loss: 0.0813 - accuracy: 0.9824 - val_loss: 0.0985 - val_accuracy: 0.9708\n",
            "Epoch 74/100\n",
            "13/13 [==============================] - 0s 4ms/step - loss: 0.0789 - accuracy: 0.9824 - val_loss: 0.0982 - val_accuracy: 0.9708\n",
            "Epoch 75/100\n",
            "13/13 [==============================] - 0s 4ms/step - loss: 0.0791 - accuracy: 0.9824 - val_loss: 0.0979 - val_accuracy: 0.9708\n",
            "Epoch 76/100\n",
            "13/13 [==============================] - 0s 4ms/step - loss: 0.0807 - accuracy: 0.9824 - val_loss: 0.0976 - val_accuracy: 0.9708\n",
            "Epoch 77/100\n",
            "13/13 [==============================] - 0s 4ms/step - loss: 0.0777 - accuracy: 0.9824 - val_loss: 0.0973 - val_accuracy: 0.9708\n",
            "Epoch 78/100\n",
            "13/13 [==============================] - 0s 4ms/step - loss: 0.0784 - accuracy: 0.9824 - val_loss: 0.0970 - val_accuracy: 0.9708\n",
            "Epoch 79/100\n",
            "13/13 [==============================] - 0s 4ms/step - loss: 0.0764 - accuracy: 0.9824 - val_loss: 0.0968 - val_accuracy: 0.9708\n",
            "Epoch 80/100\n",
            "13/13 [==============================] - 0s 4ms/step - loss: 0.0773 - accuracy: 0.9824 - val_loss: 0.0965 - val_accuracy: 0.9708\n",
            "Epoch 81/100\n",
            "13/13 [==============================] - 0s 4ms/step - loss: 0.0760 - accuracy: 0.9824 - val_loss: 0.0963 - val_accuracy: 0.9708\n",
            "Epoch 82/100\n",
            "13/13 [==============================] - 0s 5ms/step - loss: 0.0781 - accuracy: 0.9824 - val_loss: 0.0961 - val_accuracy: 0.9708\n",
            "Epoch 83/100\n",
            "13/13 [==============================] - 0s 4ms/step - loss: 0.0785 - accuracy: 0.9824 - val_loss: 0.0958 - val_accuracy: 0.9708\n",
            "Epoch 84/100\n",
            "13/13 [==============================] - 0s 4ms/step - loss: 0.0761 - accuracy: 0.9824 - val_loss: 0.0956 - val_accuracy: 0.9708\n",
            "Epoch 85/100\n",
            "13/13 [==============================] - 0s 4ms/step - loss: 0.0735 - accuracy: 0.9824 - val_loss: 0.0954 - val_accuracy: 0.9708\n",
            "Epoch 86/100\n",
            "13/13 [==============================] - 0s 4ms/step - loss: 0.0749 - accuracy: 0.9824 - val_loss: 0.0952 - val_accuracy: 0.9649\n",
            "Epoch 87/100\n",
            "13/13 [==============================] - 0s 4ms/step - loss: 0.0740 - accuracy: 0.9824 - val_loss: 0.0950 - val_accuracy: 0.9591\n",
            "Epoch 88/100\n",
            "13/13 [==============================] - 0s 4ms/step - loss: 0.0719 - accuracy: 0.9824 - val_loss: 0.0948 - val_accuracy: 0.9591\n",
            "Epoch 89/100\n",
            "13/13 [==============================] - 0s 4ms/step - loss: 0.0746 - accuracy: 0.9824 - val_loss: 0.0946 - val_accuracy: 0.9591\n",
            "Epoch 90/100\n",
            "13/13 [==============================] - 0s 4ms/step - loss: 0.0700 - accuracy: 0.9849 - val_loss: 0.0944 - val_accuracy: 0.9708\n",
            "Epoch 91/100\n",
            "13/13 [==============================] - 0s 4ms/step - loss: 0.0694 - accuracy: 0.9849 - val_loss: 0.0942 - val_accuracy: 0.9708\n",
            "Epoch 92/100\n",
            "13/13 [==============================] - 0s 5ms/step - loss: 0.0716 - accuracy: 0.9849 - val_loss: 0.0941 - val_accuracy: 0.9649\n",
            "Epoch 93/100\n",
            "13/13 [==============================] - 0s 4ms/step - loss: 0.0688 - accuracy: 0.9849 - val_loss: 0.0939 - val_accuracy: 0.9649\n",
            "Epoch 94/100\n",
            "13/13 [==============================] - 0s 4ms/step - loss: 0.0741 - accuracy: 0.9849 - val_loss: 0.0937 - val_accuracy: 0.9649\n",
            "Epoch 95/100\n",
            "13/13 [==============================] - 0s 4ms/step - loss: 0.0700 - accuracy: 0.9849 - val_loss: 0.0936 - val_accuracy: 0.9649\n",
            "Epoch 96/100\n",
            "13/13 [==============================] - 0s 4ms/step - loss: 0.0690 - accuracy: 0.9849 - val_loss: 0.0934 - val_accuracy: 0.9649\n",
            "Epoch 97/100\n",
            "13/13 [==============================] - 0s 4ms/step - loss: 0.0689 - accuracy: 0.9849 - val_loss: 0.0932 - val_accuracy: 0.9708\n",
            "Epoch 98/100\n",
            "13/13 [==============================] - 0s 4ms/step - loss: 0.0711 - accuracy: 0.9849 - val_loss: 0.0931 - val_accuracy: 0.9649\n",
            "Epoch 99/100\n",
            "13/13 [==============================] - 0s 5ms/step - loss: 0.0689 - accuracy: 0.9849 - val_loss: 0.0929 - val_accuracy: 0.9649\n",
            "Epoch 100/100\n",
            "13/13 [==============================] - 0s 4ms/step - loss: 0.0669 - accuracy: 0.9849 - val_loss: 0.0928 - val_accuracy: 0.9708\n",
            "13/13 [==============================] - 0s 1ms/step - loss: 0.0711 - accuracy: 0.9874\n",
            "Train score: [0.07109235227108002, 0.9874371886253357]\n",
            "6/6 [==============================] - 0s 1ms/step - loss: 0.0928 - accuracy: 0.9708\n",
            "Test score: [0.0928100049495697, 0.9707602262496948]\n"
          ],
          "name": "stdout"
        }
      ]
    },
    {
      "cell_type": "code",
      "metadata": {
        "id": "T6eJCgt1MWfe",
        "colab_type": "code",
        "outputId": "805cf41c-cd39-442e-e71c-456360dce1a1",
        "colab": {
          "base_uri": "https://localhost:8080/",
          "height": 281
        }
      },
      "source": [
        "import matplotlib.pyplot as plt\n",
        "plt.plot(r.history['loss'], label='loss')\n",
        "plt.plot(r.history['val_loss'], label='val_loss')\n",
        "plt.legend()"
      ],
      "execution_count": 13,
      "outputs": [
        {
          "output_type": "execute_result",
          "data": {
            "text/plain": [
              "<matplotlib.legend.Legend at 0x7f469b0d5d68>"
            ]
          },
          "metadata": {
            "tags": []
          },
          "execution_count": 13
        },
        {
          "output_type": "display_data",
          "data": {
            "image/png": "[encoded data removed]",
            "text/plain": [
              "<Figure size 432x288 with 1 Axes>"
            ]
          },
          "metadata": {
            "tags": [],
            "needs_background": "light"
          }
        }
      ]
    },
    {
      "cell_type": "code",
      "metadata": {
        "id": "O25XGqHGMyuQ",
        "colab_type": "code",
        "outputId": "0c2e23e4-3b77-4711-cf1a-78499c4d9964",
        "colab": {
          "base_uri": "https://localhost:8080/",
          "height": 281
        }
      },
      "source": [
        "plt.plot(r.history['accuracy'], label='acc')\n",
        "plt.plot(r.history['val_accuracy'], label='val_acc')\n",
        "plt.legend()"
      ],
      "execution_count": 14,
      "outputs": [
        {
          "output_type": "execute_result",
          "data": {
            "text/plain": [
              "<matplotlib.legend.Legend at 0x7f469f772b00>"
            ]
          },
          "metadata": {
            "tags": []
          },
          "execution_count": 14
        },
        {
          "output_type": "display_data",
          "data": {
            "image/png": "[encoded data removed]",
            "text/plain": [
              "<Figure size 432x288 with 1 Axes>"
            ]
          },
          "metadata": {
            "tags": [],
            "needs_background": "light"
          }
        }
      ]
    },
    {
      "cell_type": "code",
      "metadata": {
        "id": "Q2KCrlWrNDB1",
        "colab_type": "code",
        "outputId": "96f2c56c-929f-4bd9-d4f2-c9a81da4e485",
        "colab": {
          "base_uri": "https://localhost:8080/",
          "height": 1000
        }
      },
      "source": [
        "#predictions\n",
        "\n",
        "P = model.predict(X_test)\n",
        "print(P)"
      ],
      "execution_count": 15,
      "outputs": [
        {
          "output_type": "stream",
          "text": [
            "[[9.56378222e-01]\n",
            " [9.92071033e-01]\n",
            " [2.47808907e-06]\n",
            " [7.82032132e-01]\n",
            " [9.97141898e-01]\n",
            " [9.96753275e-01]\n",
            " [9.53311682e-01]\n",
            " [9.99516487e-01]\n",
            " [5.09470701e-04]\n",
            " [5.44181466e-03]\n",
            " [9.94326413e-01]\n",
            " [4.26493388e-14]\n",
            " [1.32706382e-05]\n",
            " [9.94480312e-01]\n",
            " [4.68955338e-02]\n",
            " [9.98869836e-01]\n",
            " [9.99008894e-01]\n",
            " [8.36217523e-01]\n",
            " [9.78005111e-01]\n",
            " [9.39445376e-01]\n",
            " [9.99919116e-01]\n",
            " [1.79260969e-04]\n",
            " [2.69166231e-02]\n",
            " [9.96472597e-01]\n",
            " [9.66396391e-01]\n",
            " [2.05177963e-02]\n",
            " [9.97590721e-01]\n",
            " [8.81594300e-01]\n",
            " [3.29113334e-01]\n",
            " [1.64636195e-01]\n",
            " [9.99506891e-01]\n",
            " [9.05761540e-01]\n",
            " [9.83399987e-01]\n",
            " [4.03826525e-05]\n",
            " [8.57396543e-01]\n",
            " [1.53800845e-02]\n",
            " [9.99289036e-01]\n",
            " [2.75970757e-01]\n",
            " [7.37183470e-09]\n",
            " [3.15444082e-01]\n",
            " [3.12669575e-02]\n",
            " [1.17588543e-08]\n",
            " [9.77196813e-01]\n",
            " [9.93607223e-01]\n",
            " [6.97689712e-01]\n",
            " [9.46603477e-01]\n",
            " [9.99215126e-01]\n",
            " [5.17846406e-01]\n",
            " [5.05484223e-01]\n",
            " [3.72171402e-04]\n",
            " [8.68388772e-01]\n",
            " [9.96986508e-01]\n",
            " [2.83867121e-04]\n",
            " [9.99969602e-01]\n",
            " [7.23892748e-02]\n",
            " [9.88872051e-01]\n",
            " [9.97753859e-01]\n",
            " [9.98070121e-01]\n",
            " [8.60879660e-01]\n",
            " [1.92264915e-02]\n",
            " [9.98685241e-01]\n",
            " [3.73245388e-01]\n",
            " [9.96317387e-01]\n",
            " [2.24551558e-03]\n",
            " [9.09605324e-01]\n",
            " [2.07300650e-06]\n",
            " [9.61703777e-01]\n",
            " [4.14329767e-03]\n",
            " [9.99114394e-01]\n",
            " [1.65462494e-04]\n",
            " [9.97679591e-01]\n",
            " [9.98436332e-01]\n",
            " [3.06278467e-04]\n",
            " [1.08477343e-06]\n",
            " [9.95602965e-01]\n",
            " [2.36209840e-01]\n",
            " [3.32635464e-05]\n",
            " [9.99290705e-01]\n",
            " [9.99800026e-01]\n",
            " [8.85790944e-01]\n",
            " [2.17124834e-05]\n",
            " [4.03577199e-10]\n",
            " [1.78320846e-07]\n",
            " [3.91576886e-02]\n",
            " [4.11118745e-05]\n",
            " [1.09769026e-04]\n",
            " [9.40754056e-01]\n",
            " [3.05920839e-04]\n",
            " [9.91180420e-01]\n",
            " [9.95109439e-01]\n",
            " [2.13980675e-04]\n",
            " [7.64578581e-04]\n",
            " [5.32912612e-01]\n",
            " [9.68886614e-01]\n",
            " [1.28656626e-04]\n",
            " [2.29107738e-02]\n",
            " [2.02346127e-05]\n",
            " [9.97993946e-01]\n",
            " [9.05812740e-01]\n",
            " [7.52687454e-04]\n",
            " [9.99397755e-01]\n",
            " [8.48034620e-01]\n",
            " [9.99272406e-01]\n",
            " [9.67078567e-01]\n",
            " [9.98625636e-01]\n",
            " [9.99849200e-01]\n",
            " [9.83767033e-01]\n",
            " [1.88195418e-06]\n",
            " [9.66470242e-01]\n",
            " [2.78804004e-02]\n",
            " [5.04046679e-04]\n",
            " [9.98733699e-01]\n",
            " [4.57075294e-06]\n",
            " [9.99114156e-01]\n",
            " [4.90713319e-07]\n",
            " [1.49484664e-01]\n",
            " [9.40868020e-01]\n",
            " [6.49316609e-02]\n",
            " [1.65378856e-06]\n",
            " [9.99143243e-01]\n",
            " [9.95612502e-01]\n",
            " [7.68698228e-05]\n",
            " [9.96421278e-01]\n",
            " [2.51272678e-01]\n",
            " [9.77248609e-01]\n",
            " [9.96283293e-01]\n",
            " [9.94804978e-01]\n",
            " [5.49465418e-04]\n",
            " [7.71728396e-01]\n",
            " [7.62457557e-06]\n",
            " [9.01354432e-01]\n",
            " [9.23234344e-01]\n",
            " [9.87313926e-01]\n",
            " [9.99258757e-01]\n",
            " [3.27253342e-03]\n",
            " [9.68469143e-01]\n",
            " [9.99830604e-01]\n",
            " [9.99802947e-01]\n",
            " [3.24964523e-04]\n",
            " [9.98650789e-01]\n",
            " [9.36179996e-01]\n",
            " [1.98458433e-02]\n",
            " [1.26966834e-03]\n",
            " [2.21869051e-02]\n",
            " [9.86647129e-01]\n",
            " [4.13015485e-03]\n",
            " [2.58318950e-10]\n",
            " [9.92074490e-01]\n",
            " [7.83228159e-01]\n",
            " [9.99912858e-01]\n",
            " [9.53542531e-01]\n",
            " [9.68317986e-01]\n",
            " [9.41555858e-01]\n",
            " [4.32622433e-03]\n",
            " [9.99725461e-01]\n",
            " [9.96717215e-01]\n",
            " [9.92451489e-01]\n",
            " [1.73963010e-02]\n",
            " [4.99422044e-01]\n",
            " [9.69481111e-01]\n",
            " [9.99322772e-01]\n",
            " [1.33794546e-02]\n",
            " [9.98128533e-01]\n",
            " [4.88899568e-05]\n",
            " [9.76774871e-01]\n",
            " [9.97923911e-01]\n",
            " [4.07573316e-05]\n",
            " [1.16745055e-01]\n",
            " [9.84058678e-01]\n",
            " [9.95655537e-01]\n",
            " [9.99581516e-01]]\n"
          ],
          "name": "stdout"
        }
      ]
    },
    {
      "cell_type": "code",
      "metadata": {
        "id": "WJkwZ72HNOTy",
        "colab_type": "code",
        "outputId": "6b7e2d50-4873-4f76-eb04-0857c06b677d",
        "colab": {
          "base_uri": "https://localhost:8080/",
          "height": 183
        }
      },
      "source": [
        "# rounding the predictions to get the class here either 0 or 1 and converting into vector\n",
        "import numpy as np\n",
        "print(P.shape)\n",
        "P = np.round(P).flatten()\n",
        "print(P)\n",
        "print(P.shape)"
      ],
      "execution_count": 16,
      "outputs": [
        {
          "output_type": "stream",
          "text": [
            "(171, 1)\n",
            "[1. 1. 0. 1. 1. 1. 1. 1. 0. 0. 1. 0. 0. 1. 0. 1. 1. 1. 1. 1. 1. 0. 0. 1.\n",
            " 1. 0. 1. 1. 0. 0. 1. 1. 1. 0. 1. 0. 1. 0. 0. 0. 0. 0. 1. 1. 1. 1. 1. 1.\n",
            " 1. 0. 1. 1. 0. 1. 0. 1. 1. 1. 1. 0. 1. 0. 1. 0. 1. 0. 1. 0. 1. 0. 1. 1.\n",
            " 0. 0. 1. 0. 0. 1. 1. 1. 0. 0. 0. 0. 0. 0. 1. 0. 1. 1. 0. 0. 1. 1. 0. 0.\n",
            " 0. 1. 1. 0. 1. 1. 1. 1. 1. 1. 1. 0. 1. 0. 0. 1. 0. 1. 0. 0. 1. 0. 0. 1.\n",
            " 1. 0. 1. 0. 1. 1. 1. 0. 1. 0. 1. 1. 1. 1. 0. 1. 1. 1. 0. 1. 1. 0. 0. 0.\n",
            " 1. 0. 0. 1. 1. 1. 1. 1. 1. 0. 1. 1. 1. 0. 0. 1. 1. 0. 1. 0. 1. 1. 0. 0.\n",
            " 1. 1. 1.]\n",
            "(171,)\n"
          ],
          "name": "stdout"
        }
      ]
    },
    {
      "cell_type": "code",
      "metadata": {
        "id": "okVpakXGNj8U",
        "colab_type": "code",
        "outputId": "126d07b9-0e56-4178-fb37-091698559c33",
        "colab": {
          "base_uri": "https://localhost:8080/",
          "height": 66
        }
      },
      "source": [
        "print(\"Manually calculated accuracy:\", np.mean(P == y_test))\n",
        "print(\"Evaluate output:\", model.evaluate(X_test, y_test))"
      ],
      "execution_count": 17,
      "outputs": [
        {
          "output_type": "stream",
          "text": [
            "Manually calculated accuracy: 0.9707602339181286\n",
            "6/6 [==============================] - 0s 2ms/step - loss: 0.0928 - accuracy: 0.9708\n",
            "Evaluate output: [0.0928100049495697, 0.9707602262496948]\n"
          ],
          "name": "stdout"
        }
      ]
    },
    {
      "cell_type": "code",
      "metadata": {
        "id": "uubCFcqOOCUm",
        "colab_type": "code",
        "colab": {}
      },
      "source": [
        "# Saving the model\n",
        "model.save('TF2_0_LPUDEMY_linearclassifier.h5')"
      ],
      "execution_count": 0,
      "outputs": []
    },
    {
      "cell_type": "code",
      "metadata": {
        "id": "t897bZvwOXEf",
        "colab_type": "code",
        "outputId": "9c195ec2-47d9-4560-84c5-a0c0e8b6886f",
        "colab": {
          "base_uri": "https://localhost:8080/",
          "height": 66
        }
      },
      "source": [
        "!ls -l"
      ],
      "execution_count": 19,
      "outputs": [
        {
          "output_type": "stream",
          "text": [
            "total 24\n",
            "drwxr-xr-x 1 root root  4096 Apr  3 16:24 sample_data\n",
            "-rw-r--r-- 1 root root 18480 Apr 19 13:44 TF2_0_LPUDEMY_linearclassifier.h5\n"
          ],
          "name": "stdout"
        }
      ]
    },
    {
      "cell_type": "code",
      "metadata": {
        "id": "hA7usHbiOZ9j",
        "colab_type": "code",
        "outputId": "882157ea-97b1-4cfd-fa58-9e191cf83fe5",
        "colab": {
          "base_uri": "https://localhost:8080/",
          "height": 66
        }
      },
      "source": [
        "#loading saved model\n",
        "\n",
        "model = tf.keras.models.load_model('TF2_0_LPUDEMY_linearclassifier.h5')\n",
        "print(model.layers)\n",
        "model.evaluate(X_test, y_test)"
      ],
      "execution_count": 20,
      "outputs": [
        {
          "output_type": "stream",
          "text": [
            "[<tensorflow.python.keras.layers.core.Dense object at 0x7f469bcda630>]\n",
            "6/6 [==============================] - 0s 1ms/step - loss: 0.0928 - accuracy: 0.9708\n"
          ],
          "name": "stdout"
        },
        {
          "output_type": "execute_result",
          "data": {
            "text/plain": [
              "[0.0928100049495697, 0.9707602262496948]"
            ]
          },
          "metadata": {
            "tags": []
          },
          "execution_count": 20
        }
      ]
    },
    {
      "cell_type": "code",
      "metadata": {
        "id": "DQWQkaapOsBf",
        "colab_type": "code",
        "colab": {}
      },
      "source": [
        "# downloading our model to loacl machine\n",
        "\n",
        "#from google.colab import files\n",
        "#files.download('TF2_0_LPUDEMY_linearclassifier.h5')"
      ],
      "execution_count": 0,
      "outputs": []
    },
    {
      "cell_type": "code",
      "metadata": {
        "id": "Z2CNKdjEO7TV",
        "colab_type": "code",
        "colab": {}
      },
      "source": [
        ""
      ],
      "execution_count": 0,
      "outputs": []
    }
  ]
}