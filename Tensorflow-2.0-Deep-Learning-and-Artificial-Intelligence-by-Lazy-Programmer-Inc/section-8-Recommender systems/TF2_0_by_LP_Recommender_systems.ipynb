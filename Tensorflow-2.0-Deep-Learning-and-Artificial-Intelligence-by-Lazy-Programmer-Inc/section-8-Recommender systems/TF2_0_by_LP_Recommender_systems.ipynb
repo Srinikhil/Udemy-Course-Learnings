{
  "nbformat": 4,
  "nbformat_minor": 0,
  "metadata": {
    "colab": {
      "name": "TF2.0-by-LP-Recommender-systems.ipynb",
      "provenance": [],
      "collapsed_sections": []
    },
    "kernelspec": {
      "name": "python3",
      "display_name": "Python 3"
    },
    "accelerator": "GPU"
  },
  "cells": [
    {
      "cell_type": "code",
      "metadata": {
        "id": "A7cJl7GZxv2L",
        "colab_type": "code",
        "colab": {
          "base_uri": "https://localhost:8080/",
          "height": 33
        },
        "outputId": "bb1af7fb-e583-4903-d74f-0cc489800d72"
      },
      "source": [
        "import tensorflow as tf\n",
        "print(tf.__version__)"
      ],
      "execution_count": 1,
      "outputs": [
        {
          "output_type": "stream",
          "text": [
            "2.2.0\n"
          ],
          "name": "stdout"
        }
      ]
    },
    {
      "cell_type": "code",
      "metadata": {
        "id": "O_Z2l51R_azs",
        "colab_type": "code",
        "colab": {}
      },
      "source": [
        "from tensorflow.keras.layers import Input, Dense, Embedding, Flatten, Concatenate\n",
        "from tensorflow.keras.models import Model\n",
        "from tensorflow.keras.optimizers import Adam, SGD\n",
        "\n",
        "from sklearn.utils import shuffle\n",
        "\n",
        "import numpy as np\n",
        "import pandas as pd\n",
        "import matplotlib.pyplot as plt"
      ],
      "execution_count": 2,
      "outputs": []
    },
    {
      "cell_type": "code",
      "metadata": {
        "id": "b2CRFWYUBMs8",
        "colab_type": "code",
        "colab": {
          "base_uri": "https://localhost:8080/",
          "height": 200
        },
        "outputId": "375718f6-fd2f-4831-92b2-4f5c4cc74f7f"
      },
      "source": [
        "!wget -nc http://files.grouplens.org/datasets/movielens/ml-20m.zip"
      ],
      "execution_count": 3,
      "outputs": [
        {
          "output_type": "stream",
          "text": [
            "--2020-06-23 13:41:12--  http://files.grouplens.org/datasets/movielens/ml-20m.zip\n",
            "Resolving files.grouplens.org (files.grouplens.org)... 128.101.65.152\n",
            "Connecting to files.grouplens.org (files.grouplens.org)|128.101.65.152|:80... connected.\n",
            "HTTP request sent, awaiting response... 200 OK\n",
            "Length: 198702078 (189M) [application/zip]\n",
            "Saving to: ‘ml-20m.zip’\n",
            "\n",
            "ml-20m.zip          100%[===================>] 189.50M  14.0MB/s    in 15s     \n",
            "\n",
            "2020-06-23 13:41:27 (12.5 MB/s) - ‘ml-20m.zip’ saved [198702078/198702078]\n",
            "\n"
          ],
          "name": "stdout"
        }
      ]
    },
    {
      "cell_type": "code",
      "metadata": {
        "id": "BIrwDm1CB3ht",
        "colab_type": "code",
        "colab": {
          "base_uri": "https://localhost:8080/",
          "height": 166
        },
        "outputId": "dcf8ae9a-3c35-4b6f-de85-7b17d50c7c38"
      },
      "source": [
        "!unzip -n ml-20m.zip"
      ],
      "execution_count": 4,
      "outputs": [
        {
          "output_type": "stream",
          "text": [
            "Archive:  ml-20m.zip\n",
            "   creating: ml-20m/\n",
            "  inflating: ml-20m/genome-scores.csv  \n",
            "  inflating: ml-20m/genome-tags.csv  \n",
            "  inflating: ml-20m/links.csv        \n",
            "  inflating: ml-20m/movies.csv       \n",
            "  inflating: ml-20m/ratings.csv      \n",
            "  inflating: ml-20m/README.txt       \n",
            "  inflating: ml-20m/tags.csv         \n"
          ],
          "name": "stdout"
        }
      ]
    },
    {
      "cell_type": "code",
      "metadata": {
        "id": "qR08hS0SB8jC",
        "colab_type": "code",
        "colab": {
          "base_uri": "https://localhost:8080/",
          "height": 33
        },
        "outputId": "a3b40803-1b07-4880-cf8e-a08216f4146d"
      },
      "source": [
        "!ls"
      ],
      "execution_count": 5,
      "outputs": [
        {
          "output_type": "stream",
          "text": [
            "ml-20m\tml-20m.zip  sample_data\n"
          ],
          "name": "stdout"
        }
      ]
    },
    {
      "cell_type": "code",
      "metadata": {
        "id": "WIJXnWkgB_jp",
        "colab_type": "code",
        "colab": {
          "base_uri": "https://localhost:8080/",
          "height": 197
        },
        "outputId": "ae0c5ef6-5e84-4df9-e97a-05f44a96038f"
      },
      "source": [
        "df = pd.read_csv('ml-20m/ratings.csv')\n",
        "df.head()"
      ],
      "execution_count": 6,
      "outputs": [
        {
          "output_type": "execute_result",
          "data": {
            "text/html": [
              "<div>\n",
              "<style scoped>\n",
              "    .dataframe tbody tr th:only-of-type {\n",
              "        vertical-align: middle;\n",
              "    }\n",
              "\n",
              "    .dataframe tbody tr th {\n",
              "        vertical-align: top;\n",
              "    }\n",
              "\n",
              "    .dataframe thead th {\n",
              "        text-align: right;\n",
              "    }\n",
              "</style>\n",
              "<table border=\"1\" class=\"dataframe\">\n",
              "  <thead>\n",
              "    <tr style=\"text-align: right;\">\n",
              "      <th></th>\n",
              "      <th>userId</th>\n",
              "      <th>movieId</th>\n",
              "      <th>rating</th>\n",
              "      <th>timestamp</th>\n",
              "    </tr>\n",
              "  </thead>\n",
              "  <tbody>\n",
              "    <tr>\n",
              "      <th>0</th>\n",
              "      <td>1</td>\n",
              "      <td>2</td>\n",
              "      <td>3.5</td>\n",
              "      <td>1112486027</td>\n",
              "    </tr>\n",
              "    <tr>\n",
              "      <th>1</th>\n",
              "      <td>1</td>\n",
              "      <td>29</td>\n",
              "      <td>3.5</td>\n",
              "      <td>1112484676</td>\n",
              "    </tr>\n",
              "    <tr>\n",
              "      <th>2</th>\n",
              "      <td>1</td>\n",
              "      <td>32</td>\n",
              "      <td>3.5</td>\n",
              "      <td>1112484819</td>\n",
              "    </tr>\n",
              "    <tr>\n",
              "      <th>3</th>\n",
              "      <td>1</td>\n",
              "      <td>47</td>\n",
              "      <td>3.5</td>\n",
              "      <td>1112484727</td>\n",
              "    </tr>\n",
              "    <tr>\n",
              "      <th>4</th>\n",
              "      <td>1</td>\n",
              "      <td>50</td>\n",
              "      <td>3.5</td>\n",
              "      <td>1112484580</td>\n",
              "    </tr>\n",
              "  </tbody>\n",
              "</table>\n",
              "</div>"
            ],
            "text/plain": [
              "   userId  movieId  rating   timestamp\n",
              "0       1        2     3.5  1112486027\n",
              "1       1       29     3.5  1112484676\n",
              "2       1       32     3.5  1112484819\n",
              "3       1       47     3.5  1112484727\n",
              "4       1       50     3.5  1112484580"
            ]
          },
          "metadata": {
            "tags": []
          },
          "execution_count": 6
        }
      ]
    },
    {
      "cell_type": "code",
      "metadata": {
        "id": "06CZwLqVCSlw",
        "colab_type": "code",
        "colab": {}
      },
      "source": [
        "# Setting our own id's for userId and movieId as hthey may not be numbered from 0...N-1\n",
        "\n",
        "df.userId = pd.Categorical(df.userId)\n",
        "df['new_user_id'] = df.userId.cat.codes\n",
        "\n",
        "df.movieId = pd.Categorical(df.movieId)\n",
        "df['new_movie_id'] = df.movieId.cat.codes"
      ],
      "execution_count": 7,
      "outputs": []
    },
    {
      "cell_type": "code",
      "metadata": {
        "id": "-NRelaWFGl2H",
        "colab_type": "code",
        "colab": {
          "base_uri": "https://localhost:8080/",
          "height": 197
        },
        "outputId": "71566a86-c850-436c-9173-3b87da62d7b5"
      },
      "source": [
        "df.head()"
      ],
      "execution_count": 8,
      "outputs": [
        {
          "output_type": "execute_result",
          "data": {
            "text/html": [
              "<div>\n",
              "<style scoped>\n",
              "    .dataframe tbody tr th:only-of-type {\n",
              "        vertical-align: middle;\n",
              "    }\n",
              "\n",
              "    .dataframe tbody tr th {\n",
              "        vertical-align: top;\n",
              "    }\n",
              "\n",
              "    .dataframe thead th {\n",
              "        text-align: right;\n",
              "    }\n",
              "</style>\n",
              "<table border=\"1\" class=\"dataframe\">\n",
              "  <thead>\n",
              "    <tr style=\"text-align: right;\">\n",
              "      <th></th>\n",
              "      <th>userId</th>\n",
              "      <th>movieId</th>\n",
              "      <th>rating</th>\n",
              "      <th>timestamp</th>\n",
              "      <th>new_user_id</th>\n",
              "      <th>new_movie_id</th>\n",
              "    </tr>\n",
              "  </thead>\n",
              "  <tbody>\n",
              "    <tr>\n",
              "      <th>0</th>\n",
              "      <td>1</td>\n",
              "      <td>2</td>\n",
              "      <td>3.5</td>\n",
              "      <td>1112486027</td>\n",
              "      <td>0</td>\n",
              "      <td>1</td>\n",
              "    </tr>\n",
              "    <tr>\n",
              "      <th>1</th>\n",
              "      <td>1</td>\n",
              "      <td>29</td>\n",
              "      <td>3.5</td>\n",
              "      <td>1112484676</td>\n",
              "      <td>0</td>\n",
              "      <td>28</td>\n",
              "    </tr>\n",
              "    <tr>\n",
              "      <th>2</th>\n",
              "      <td>1</td>\n",
              "      <td>32</td>\n",
              "      <td>3.5</td>\n",
              "      <td>1112484819</td>\n",
              "      <td>0</td>\n",
              "      <td>31</td>\n",
              "    </tr>\n",
              "    <tr>\n",
              "      <th>3</th>\n",
              "      <td>1</td>\n",
              "      <td>47</td>\n",
              "      <td>3.5</td>\n",
              "      <td>1112484727</td>\n",
              "      <td>0</td>\n",
              "      <td>46</td>\n",
              "    </tr>\n",
              "    <tr>\n",
              "      <th>4</th>\n",
              "      <td>1</td>\n",
              "      <td>50</td>\n",
              "      <td>3.5</td>\n",
              "      <td>1112484580</td>\n",
              "      <td>0</td>\n",
              "      <td>49</td>\n",
              "    </tr>\n",
              "  </tbody>\n",
              "</table>\n",
              "</div>"
            ],
            "text/plain": [
              "  userId movieId  rating   timestamp  new_user_id  new_movie_id\n",
              "0      1       2     3.5  1112486027            0             1\n",
              "1      1      29     3.5  1112484676            0            28\n",
              "2      1      32     3.5  1112484819            0            31\n",
              "3      1      47     3.5  1112484727            0            46\n",
              "4      1      50     3.5  1112484580            0            49"
            ]
          },
          "metadata": {
            "tags": []
          },
          "execution_count": 8
        }
      ]
    },
    {
      "cell_type": "code",
      "metadata": {
        "id": "bo2olZhYESpO",
        "colab_type": "code",
        "colab": {}
      },
      "source": [
        "# Getting user IDs, movie IDs and ratings in separate arrays\n",
        "\n",
        "user_ids = df['new_user_id'].values\n",
        "movie_ids = df['new_movie_id'].values\n",
        "ratings = df['rating'].values"
      ],
      "execution_count": 9,
      "outputs": []
    },
    {
      "cell_type": "code",
      "metadata": {
        "id": "r2DFQQniGrM3",
        "colab_type": "code",
        "colab": {
          "base_uri": "https://localhost:8080/",
          "height": 83
        },
        "outputId": "17e73900-0a7c-4cd9-b30b-ace495590ddd"
      },
      "source": [
        "print(type(user_ids))\n",
        "print(type(set(user_ids)))\n",
        "print(len(user_ids))\n",
        "print(len(movie_ids))"
      ],
      "execution_count": 10,
      "outputs": [
        {
          "output_type": "stream",
          "text": [
            "<class 'numpy.ndarray'>\n",
            "<class 'set'>\n",
            "20000263\n",
            "20000263\n"
          ],
          "name": "stdout"
        }
      ]
    },
    {
      "cell_type": "code",
      "metadata": {
        "id": "QpxRMLUrGywP",
        "colab_type": "code",
        "colab": {
          "base_uri": "https://localhost:8080/",
          "height": 50
        },
        "outputId": "e8778918-964b-48d5-c7e2-ef9d9fdc560a"
      },
      "source": [
        "# No. of users and movies\n",
        "\n",
        "N = len(set(user_ids))\n",
        "M = len(set(movie_ids))\n",
        "print(' N:', N, '\\n', 'M:', M)\n",
        "\n",
        "# Setting embedding dimension\n",
        "K = 10"
      ],
      "execution_count": 11,
      "outputs": [
        {
          "output_type": "stream",
          "text": [
            " N: 138493 \n",
            " M: 26744\n"
          ],
          "name": "stdout"
        }
      ]
    },
    {
      "cell_type": "code",
      "metadata": {
        "id": "IlJxm240HPdh",
        "colab_type": "code",
        "colab": {}
      },
      "source": [
        "# Making a Neural Network\n",
        "\n",
        "u = Input(shape=(1,))\n",
        "m = Input(shape=(1,))\n",
        "\n",
        "u_emb = Embedding(N, K)(u) # output-shape of this layer (num_samples, 1, K)\n",
        "m_emb = Embedding(M, K)(m) # output-shape of this layer (num_samples, 1, K)\n",
        "\n",
        "u_emb = Flatten()(u_emb) # output-shape of this layer (num_samples, K)\n",
        "m_emb = Flatten()(m_emb) # output-shape of this layer (num_Samples, K)\n",
        "\n",
        "x = Concatenate()([u_emb, m_emb]) # output-shape of this layer (num_sample, 2K)\n",
        "\n",
        "x = Dense(1024, activation='relu')(x)\n",
        "x = Dense(400, activation='relu')(x)\n",
        "x = Dense(400, activation='relu')(x)\n",
        "x = Dense(1)(x)\n",
        "\n"
      ],
      "execution_count": 12,
      "outputs": []
    },
    {
      "cell_type": "code",
      "metadata": {
        "id": "G30OeBeqLGRq",
        "colab_type": "code",
        "colab": {}
      },
      "source": [
        "model = Model(inputs=[u, m], outputs=x)\n",
        "model.compile(\n",
        "    loss='mse',\n",
        "    optimizer=SGD(lr=0.08, momentum=0.9),\n",
        ")"
      ],
      "execution_count": 13,
      "outputs": []
    },
    {
      "cell_type": "code",
      "metadata": {
        "id": "TkwxJw_OLYIf",
        "colab_type": "code",
        "colab": {}
      },
      "source": [
        "# Splitting the data\n",
        "\n",
        "user_ids, movie_ids, ratings = shuffle(user_ids, movie_ids, ratings)\n",
        "Ntrain = int(0.8 * len(ratings))\n",
        "\n",
        "train_user = user_ids[:Ntrain]\n",
        "train_movie = movie_ids[:Ntrain]\n",
        "train_ratings = ratings[:Ntrain]\n",
        "\n",
        "test_user = user_ids[Ntrain:]\n",
        "test_movie = movie_ids[Ntrain:]\n",
        "test_ratings = ratings[Ntrain:]\n",
        "\n",
        "# Centering the ratings\n",
        "avg_rating = train_ratings.mean()\n",
        "train_ratings = train_ratings - avg_rating\n",
        "test_ratings = test_ratings - avg_rating"
      ],
      "execution_count": 14,
      "outputs": []
    },
    {
      "cell_type": "code",
      "metadata": {
        "id": "0lSQi46WMXJ8",
        "colab_type": "code",
        "colab": {
          "base_uri": "https://localhost:8080/",
          "height": 850
        },
        "outputId": "fba8724e-e2ad-41e7-bda0-daeedeafdb74"
      },
      "source": [
        "r = model.fit(\n",
        "    x=[train_user, train_movie], \n",
        "    y=train_ratings,\n",
        "    epochs=25,\n",
        "    batch_size=1024,\n",
        "    verbose=2,\n",
        "    validation_data=([test_user, test_movie], test_ratings)\n",
        ")"
      ],
      "execution_count": 15,
      "outputs": [
        {
          "output_type": "stream",
          "text": [
            "Epoch 1/25\n",
            "15626/15626 - 71s - loss: 0.7812 - val_loss: 0.7288\n",
            "Epoch 2/25\n",
            "15626/15626 - 71s - loss: 0.7039 - val_loss: 0.7011\n",
            "Epoch 3/25\n",
            "15626/15626 - 71s - loss: 0.6834 - val_loss: 0.6913\n",
            "Epoch 4/25\n",
            "15626/15626 - 71s - loss: 0.6674 - val_loss: 0.6787\n",
            "Epoch 5/25\n",
            "15626/15626 - 71s - loss: 0.6551 - val_loss: 0.6719\n",
            "Epoch 6/25\n",
            "15626/15626 - 71s - loss: 0.6431 - val_loss: 0.6633\n",
            "Epoch 7/25\n",
            "15626/15626 - 70s - loss: 0.6299 - val_loss: 0.6527\n",
            "Epoch 8/25\n",
            "15626/15626 - 70s - loss: 0.6148 - val_loss: 0.6568\n",
            "Epoch 9/25\n",
            "15626/15626 - 70s - loss: 0.6032 - val_loss: 0.6430\n",
            "Epoch 10/25\n",
            "15626/15626 - 71s - loss: 0.5941 - val_loss: 0.6384\n",
            "Epoch 11/25\n",
            "15626/15626 - 70s - loss: 0.5860 - val_loss: 0.6499\n",
            "Epoch 12/25\n",
            "15626/15626 - 69s - loss: 0.5781 - val_loss: 0.6341\n",
            "Epoch 13/25\n",
            "15626/15626 - 69s - loss: 0.5703 - val_loss: 0.6324\n",
            "Epoch 14/25\n",
            "15626/15626 - 69s - loss: 0.5626 - val_loss: 0.6310\n",
            "Epoch 15/25\n",
            "15626/15626 - 70s - loss: 0.5560 - val_loss: 0.6330\n",
            "Epoch 16/25\n",
            "15626/15626 - 69s - loss: 0.5505 - val_loss: 0.6309\n",
            "Epoch 17/25\n",
            "15626/15626 - 70s - loss: 0.5457 - val_loss: 0.6309\n",
            "Epoch 18/25\n",
            "15626/15626 - 70s - loss: 0.5417 - val_loss: 0.6322\n",
            "Epoch 19/25\n",
            "15626/15626 - 71s - loss: 0.5381 - val_loss: 0.6327\n",
            "Epoch 20/25\n",
            "15626/15626 - 69s - loss: 0.5347 - val_loss: 0.6327\n",
            "Epoch 21/25\n",
            "15626/15626 - 69s - loss: 0.5318 - val_loss: 0.6368\n",
            "Epoch 22/25\n",
            "15626/15626 - 69s - loss: 0.5291 - val_loss: 0.6391\n",
            "Epoch 23/25\n",
            "15626/15626 - 69s - loss: 0.5265 - val_loss: 0.6366\n",
            "Epoch 24/25\n",
            "15626/15626 - 70s - loss: 0.5242 - val_loss: 0.6418\n",
            "Epoch 25/25\n",
            "15626/15626 - 69s - loss: 0.5219 - val_loss: 0.6403\n"
          ],
          "name": "stdout"
        }
      ]
    },
    {
      "cell_type": "code",
      "metadata": {
        "id": "IFYfh0wYQ5Zo",
        "colab_type": "code",
        "colab": {
          "base_uri": "https://localhost:8080/",
          "height": 264
        },
        "outputId": "6368eedc-ad86-4b58-d71f-3394d4a79007"
      },
      "source": [
        "# Plotting Losses\n",
        "plt.plot(r.history['loss'], label=\"train loss\")\n",
        "plt.plot(r.history['val_loss'], label=\"val loss\")\n",
        "plt.legend()\n",
        "plt.show()"
      ],
      "execution_count": 16,
      "outputs": [
        {
          "output_type": "display_data",
          "data": {
            "image/png": "[encoded data removed]",
            "text/plain": [
              "<Figure size 432x288 with 1 Axes>"
            ]
          },
          "metadata": {
            "tags": [],
            "needs_background": "light"
          }
        }
      ]
    },
    {
      "cell_type": "code",
      "metadata": {
        "id": "tLSIBMXsVzhg",
        "colab_type": "code",
        "colab": {}
      },
      "source": [
        ""
      ],
      "execution_count": 16,
      "outputs": []
    }
  ]
}